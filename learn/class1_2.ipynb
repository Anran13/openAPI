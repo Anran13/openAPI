{
 "cells": [
  {
   "cell_type": "code",
   "execution_count": null,
   "id": "287f66d7",
   "metadata": {},
   "outputs": [],
   "source": [
    "class Person():\n",
    "    # create attribute\n",
    "    def __init__(self):\n",
    "        self.name = \"XXX\"\n",
    "        self.age = 35"
   ]
  },
  {
   "cell_type": "code",
   "execution_count": 6,
   "id": "e27c947e",
   "metadata": {},
   "outputs": [
    {
     "name": "stdout",
     "output_type": "stream",
     "text": [
      "<class '__main__.Person'>\n",
      "XXX\n",
      "35\n"
     ]
    }
   ],
   "source": [
    "p1 = Person()\n",
    "print(type(p1))\n",
    "print(p1.name)\n",
    "print(p1.age)"
   ]
  },
  {
   "cell_type": "code",
   "execution_count": 7,
   "id": "e1495bf5",
   "metadata": {},
   "outputs": [
    {
     "name": "stdout",
     "output_type": "stream",
     "text": [
      "<class '__main__.Person'>\n",
      "XXX\n",
      "35\n"
     ]
    }
   ],
   "source": [
    "p2 = Person()\n",
    "print(type(p2))\n",
    "print(p2.name)\n",
    "print(p2.age)"
   ]
  },
  {
   "cell_type": "code",
   "execution_count": null,
   "id": "47e83465",
   "metadata": {},
   "outputs": [],
   "source": [
    "class Person():\n",
    "    # create attribute\n",
    "    # initial\n",
    "    def __init__(self, name:str, age:int):\n",
    "        self.name = name\n",
    "        self.age = age\n",
    "\n",
    "    # instance method\n",
    "    def echo(self):\n",
    "        print(f'My name is {self.name}.')\n",
    "        print(f'My age is {self.age}.')\n"
   ]
  },
  {
   "cell_type": "code",
   "execution_count": null,
   "id": "08defff1",
   "metadata": {},
   "outputs": [
    {
     "name": "stdout",
     "output_type": "stream",
     "text": [
      "AAA\n",
      "30\n",
      "My name is AAA.\n",
      "My age is 30.\n"
     ]
    }
   ],
   "source": [
    "# p1: object\n",
    "p1 = Person(name=\"AAA\", age=30)\n",
    "print(p1.name)\n",
    "print(p1.age)\n",
    "\n",
    "p1.echo()"
   ]
  },
  {
   "cell_type": "code",
   "execution_count": null,
   "id": "08da9c87",
   "metadata": {},
   "outputs": [],
   "source": [
    "# inherent\n",
    "class Student(Person):\n",
    "    def __init__(self, name, age, score:int):\n",
    "        # father\n",
    "        super().__init__(name=name, age=age)\n",
    "        self.__score = score\n",
    "\n",
    "    # overwrite\n",
    "    def echo(self):\n",
    "        super().echo() # father\n",
    "        print(f'My score is {self.score}.')\n",
    "\n",
    "    # property: only values that can't modified\n",
    "    # only get values\n",
    "    @property\n",
    "    def score(self)->int:\n",
    "        return self.__score"
   ]
  },
  {
   "cell_type": "code",
   "execution_count": 29,
   "id": "d0002925",
   "metadata": {},
   "outputs": [
    {
     "name": "stdout",
     "output_type": "stream",
     "text": [
      "My name is YYY.\n",
      "My age is 23.\n",
      "My score is 86.\n",
      "86\n"
     ]
    }
   ],
   "source": [
    "s1 = Student(name='YYY', age=23, score=86)\n",
    "s1.echo()\n",
    "print(s1.score)"
   ]
  }
 ],
 "metadata": {
  "kernelspec": {
   "display_name": "base",
   "language": "python",
   "name": "python3"
  },
  "language_info": {
   "codemirror_mode": {
    "name": "ipython",
    "version": 3
   },
   "file_extension": ".py",
   "mimetype": "text/x-python",
   "name": "python",
   "nbconvert_exporter": "python",
   "pygments_lexer": "ipython3",
   "version": "3.13.2"
  }
 },
 "nbformat": 4,
 "nbformat_minor": 5
}
