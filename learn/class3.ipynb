{
 "cells": [
  {
   "cell_type": "code",
   "execution_count": 44,
   "id": "809bc715",
   "metadata": {},
   "outputs": [],
   "source": [
    "class BMI:\n",
    "    def __init__(self, height:float, weight:float):\n",
    "        self.height = height\n",
    "        self.weight = weight\n",
    "        \n",
    "    def get_BMI(self)->float:\n",
    "        return round(self.weight/((self.height/100)**2), 2)\n",
    "\n",
    "    def get_status(self, bmi:float)->str:\n",
    "        status = \"\"\n",
    "        if bmi >= 35 :\n",
    "            status = '重度肥胖'\n",
    "        elif bmi >= 30 :\n",
    "            status = '中度肥胖'\n",
    "        elif bmi >= 27 :\n",
    "            status = '輕度肥胖'\n",
    "        elif bmi >= 24 :\n",
    "            status = '過重'\n",
    "        elif bmi >= 18.5 :\n",
    "            status = '正常範圍'\n",
    "        else :\n",
    "            status = '過輕'\n",
    "        return status\n",
    "\n",
    "\n"
   ]
  },
  {
   "cell_type": "code",
   "execution_count": 45,
   "id": "e34b6c5e",
   "metadata": {},
   "outputs": [
    {
     "name": "stdout",
     "output_type": "stream",
     "text": [
      "BMI = 21.48\n",
      "The status is 正常範圍\n"
     ]
    }
   ],
   "source": [
    "t1 = BMI(height=160, weight=55)\n",
    "bmi = t1.get_BMI()\n",
    "status = t1.get_status(bmi)\n",
    "print(f'BMI = {bmi}')\n",
    "print(f'The status is {status}')"
   ]
  }
 ],
 "metadata": {
  "kernelspec": {
   "display_name": "base",
   "language": "python",
   "name": "python3"
  },
  "language_info": {
   "codemirror_mode": {
    "name": "ipython",
    "version": 3
   },
   "file_extension": ".py",
   "mimetype": "text/x-python",
   "name": "python",
   "nbconvert_exporter": "python",
   "pygments_lexer": "ipython3",
   "version": "3.13.2"
  }
 },
 "nbformat": 4,
 "nbformat_minor": 5
}
