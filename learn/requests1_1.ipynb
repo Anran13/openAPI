{
 "cells": [
  {
   "cell_type": "code",
   "execution_count": 15,
   "id": "150c7d53",
   "metadata": {},
   "outputs": [],
   "source": [
    "import requests"
   ]
  },
  {
   "cell_type": "code",
   "execution_count": 16,
   "id": "35fe6dfa",
   "metadata": {},
   "outputs": [
    {
     "data": {
      "text/plain": [
       "requests.models.Response"
      ]
     },
     "execution_count": 16,
     "metadata": {},
     "output_type": "execute_result"
    }
   ],
   "source": [
    "url = 'https://data.ntpc.gov.tw/api/datasets/010e5b15-3823-4b20-b401-b1cf000550c5/csv?page=0&size=1000'\n",
    "r = requests.get(url)\n",
    "\n",
    "type(r)"
   ]
  },
  {
   "cell_type": "code",
   "execution_count": 17,
   "id": "c5a37677",
   "metadata": {},
   "outputs": [
    {
     "name": "stdout",
     "output_type": "stream",
     "text": [
      "Download successfully!\n",
      "<class 'str'>\n"
     ]
    }
   ],
   "source": [
    "r = requests.request('GET', url)\n",
    "\n",
    "if r.status_code == 200:\n",
    "    print(\"Download successfully!\")\n",
    "else:\n",
    "    print(\"Error!\")\n",
    "\n",
    "print(type(r.text))"
   ]
  },
  {
   "cell_type": "code",
   "execution_count": 26,
   "id": "25b04679",
   "metadata": {},
   "outputs": [
    {
     "name": "stdout",
     "output_type": "stream",
     "text": [
      "<class '_io.StringIO'>\n",
      "{'\\ufeff\"sno\"': '500201002', 'sna': 'YouBike2.0_八里行政中心', 'tot': '20', 'sbi': '6', 'sarea': '八里區', 'mday': '20250810091302', 'lat': '25.15397', 'lng': '121.40721', 'ar': '十三行路(靠中山路二段路口西南側人行道)', 'sareaen': 'Bali Dist', 'snaen': 'YouBike2.0_Bali District Center', 'aren': 'Shisanhang Rd. & Zhongshan Rd. Intersection (Southwest)', 'bemp': '14', 'act': '1'}\n"
     ]
    }
   ],
   "source": [
    "# string to file object\n",
    "\n",
    "from io import StringIO\n",
    "from csv import DictReader\n",
    "\n",
    "file = StringIO(r.text)\n",
    "print(type(file))\n",
    "\n",
    "# reader = DictReader(file) # memory destroyed\n",
    "# print(reader)\n",
    "# save in the memory \n",
    "list_reader = list(DictReader(file))\n",
    "\n",
    "print(list_reader[1])\n"
   ]
  },
  {
   "cell_type": "code",
   "execution_count": null,
   "id": "d3feb908",
   "metadata": {},
   "outputs": [],
   "source": []
  }
 ],
 "metadata": {
  "kernelspec": {
   "display_name": "base",
   "language": "python",
   "name": "python3"
  },
  "language_info": {
   "codemirror_mode": {
    "name": "ipython",
    "version": 3
   },
   "file_extension": ".py",
   "mimetype": "text/x-python",
   "name": "python",
   "nbconvert_exporter": "python",
   "pygments_lexer": "ipython3",
   "version": "3.13.2"
  }
 },
 "nbformat": 4,
 "nbformat_minor": 5
}
