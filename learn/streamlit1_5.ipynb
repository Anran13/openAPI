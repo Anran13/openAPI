{
 "cells": [
  {
   "cell_type": "code",
   "execution_count": 37,
   "id": "7e7170df",
   "metadata": {},
   "outputs": [],
   "source": [
    "from tools.taipei import get_youbikes"
   ]
  },
  {
   "cell_type": "code",
   "execution_count": 38,
   "id": "8dc59ac2",
   "metadata": {},
   "outputs": [],
   "source": [
    "youbike_data = get_youbikes()\n"
   ]
  },
  {
   "cell_type": "code",
   "execution_count": 39,
   "id": "d99a08fc",
   "metadata": {},
   "outputs": [
    {
     "name": "stdout",
     "output_type": "stream",
     "text": [
      "      ﻿\"sno\"                sna tot sbi sarea            mday       lat  \\\n",
      "0  500201001    YouBike2.0_下庄市場  20  12   八里區  20250813184102  25.14678   \n",
      "1  500201002  YouBike2.0_八里行政中心  20   8   八里區  20250813170004  25.15397   \n",
      "\n",
      "         lng                    ar    sareaen  \\\n",
      "0   121.3999             舊城路21號(前)  Bali Dist   \n",
      "1  121.40721  十三行路(靠中山路二段路口西南側人行道)  Bali Dist   \n",
      "\n",
      "                             snaen  \\\n",
      "0     YouBike2.0_Shia Juang Market   \n",
      "1  YouBike2.0_Bali District Center   \n",
      "\n",
      "                                                aren bemp act  \n",
      "0                     No.21, Jiucheng Rd., Bali Dist    8   1  \n",
      "1  Shisanhang Rd. & Zhongshan Rd. Intersection (S...   12   1  \n"
     ]
    }
   ],
   "source": [
    "import pandas as pd\n",
    "\n",
    "sorted = pd.DataFrame(youbike_data.copy())\n",
    "print(sorted.head(2))\n"
   ]
  },
  {
   "cell_type": "code",
   "execution_count": 40,
   "id": "268969a3",
   "metadata": {},
   "outputs": [
    {
     "name": "stdout",
     "output_type": "stream",
     "text": [
      "['金山區', '板橋區', '土城區', '泰山區', '五股區', '汐止區', '平溪區', '三芝區', '貢寮區', '石門區', '淡水區', '石碇區', '三重區', '烏來區', '八里區', '永和區', '中和區', '三峽區', '坪林區', '林口區']\n"
     ]
    }
   ],
   "source": [
    "# map usage 1\n",
    "def map_func(value:dict)->str:\n",
    "    return value['sarea']\n",
    "\n",
    "duplicate_map = list(map(map_func, youbike_data))\n",
    "unique_map = set(duplicate_map)\n",
    "area_list = list(unique_map)\n",
    "print(area_list)"
   ]
  },
  {
   "cell_type": "code",
   "execution_count": 41,
   "id": "dccc9cb0",
   "metadata": {},
   "outputs": [
    {
     "name": "stdout",
     "output_type": "stream",
     "text": [
      "['金山區', '板橋區', '土城區', '泰山區', '五股區', '汐止區', '平溪區', '三芝區', '貢寮區', '石門區', '淡水區', '石碇區', '三重區', '烏來區', '八里區', '永和區', '中和區', '三峽區', '坪林區', '林口區']\n"
     ]
    }
   ],
   "source": [
    "# map usage 1\n",
    "area_list = list(set(map(lambda value:value['sarea'], youbike_data)))\n",
    "print(area_list)"
   ]
  },
  {
   "cell_type": "code",
   "execution_count": null,
   "id": "0f1dc8c8",
   "metadata": {},
   "outputs": [
    {
     "name": "stdout",
     "output_type": "stream",
     "text": [
      "[]\n"
     ]
    }
   ],
   "source": [
    "selected_area = '三峽區'\n",
    "\n",
    "def filter_func(value:dict)->bool:\n",
    "    value['sarea'] == selected_area\n",
    "\n",
    "filter_list = list(filter(filter_func, youbike_data))\n",
    "\n",
    "print(filter_list)"
   ]
  },
  {
   "cell_type": "code",
   "execution_count": 44,
   "id": "e6a4360f",
   "metadata": {},
   "outputs": [
    {
     "name": "stdout",
     "output_type": "stream",
     "text": [
      "[]\n"
     ]
    }
   ],
   "source": [
    "show_data = [{'station':item['sna'], 'number':item['tot']} for item in filter_list]\n",
    "print(show_data)\n"
   ]
  },
  {
   "cell_type": "code",
   "execution_count": 45,
   "id": "2cdc5080",
   "metadata": {},
   "outputs": [
    {
     "name": "stdout",
     "output_type": "stream",
     "text": [
      "[]\n"
     ]
    }
   ],
   "source": [
    "locations = [{'lon':item['longitute'], 'lat':item['latitue']} for item in filter_list]\n",
    "print(show_data)"
   ]
  },
  {
   "cell_type": "code",
   "execution_count": 58,
   "id": "60b5f5de",
   "metadata": {},
   "outputs": [
    {
     "data": {
      "text/plain": [
       "0             station:YouBike2.0_下庄市場\\n, rent:12\n",
       "1            station:YouBike2.0_八里行政中心\\n, rent:8\n",
       "2        station:YouBike2.0_八里中庄市場綜合大樓\\n, rent:8\n",
       "3              station:YouBike2.0_大崁國小\\n, rent:6\n",
       "4             station:YouBike2.0_龍形停車場\\n, rent:6\n",
       "                         ...                    \n",
       "995    station:YouBike2.0_捷運淡水站(中正東路)\\n, rent:21\n",
       "996            station:YouBike2.0_衛教公園\\n, rent:4\n",
       "997    station:YouBike2.0_新市一路一段256巷口\\n, rent:16\n",
       "998         station:YouBike2.0_新民新春街口\\n, rent:12\n",
       "999        station:YouBike2.0_淡海路182巷口\\n, rent:0\n",
       "Length: 1000, dtype: object"
      ]
     },
     "execution_count": 58,
     "metadata": {},
     "output_type": "execute_result"
    }
   ],
   "source": [
    "import pandas as pd\n",
    "\n",
    "df = pd.DataFrame(youbike_data)\n",
    "df = df.rename(columns={\n",
    "    'lng':'longitude',\n",
    "    'lat':'latitude'\n",
    "    }\n",
    ")\n",
    "\n",
    "df.apply(\n",
    "    lambda row: f\"station:{row['sna']}\\n, rent:{row['sbi']}\",\n",
    "    axis = 1\n",
    ")"
   ]
  }
 ],
 "metadata": {
  "kernelspec": {
   "display_name": "base",
   "language": "python",
   "name": "python3"
  },
  "language_info": {
   "codemirror_mode": {
    "name": "ipython",
    "version": 3
   },
   "file_extension": ".py",
   "mimetype": "text/x-python",
   "name": "python",
   "nbconvert_exporter": "python",
   "pygments_lexer": "ipython3",
   "version": "3.13.2"
  }
 },
 "nbformat": 4,
 "nbformat_minor": 5
}
