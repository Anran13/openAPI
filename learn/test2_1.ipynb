{
 "cells": [
  {
   "cell_type": "code",
   "execution_count": 8,
   "id": "bf47ce7f",
   "metadata": {},
   "outputs": [
    {
     "name": "stdout",
     "output_type": "stream",
     "text": [
      "Cherry\n",
      "30\n",
      "Apple\n",
      "20\n",
      "Banana\n",
      "10\n"
     ]
    }
   ],
   "source": [
    "# lambda\n",
    "\n",
    "class Item:\n",
    "    def __init__(self, name:str, price:int):\n",
    "        self.name = name\n",
    "        self.price = price\n",
    "\n",
    "items = [\n",
    "    Item(\"Apple\", 20),\n",
    "    Item(\"Banana\", 10),\n",
    "    Item(\"Cherry\", 30)\n",
    "]\n",
    "\n",
    "# print(sorted(items, key=lambda x:x.price, reverse=True))\n",
    "\n",
    "items_sort = sorted(items, key=lambda x:x.price, reverse=True)\n",
    "for item in items_sort:\n",
    "    print(item.name)\n",
    "    print(item.price)"
   ]
  }
 ],
 "metadata": {
  "kernelspec": {
   "display_name": "base",
   "language": "python",
   "name": "python3"
  },
  "language_info": {
   "codemirror_mode": {
    "name": "ipython",
    "version": 3
   },
   "file_extension": ".py",
   "mimetype": "text/x-python",
   "name": "python",
   "nbconvert_exporter": "python",
   "pygments_lexer": "ipython3",
   "version": "3.13.2"
  }
 },
 "nbformat": 4,
 "nbformat_minor": 5
}
