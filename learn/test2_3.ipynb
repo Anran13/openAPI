{
 "cells": [
  {
   "cell_type": "code",
   "execution_count": 14,
   "id": "951708ab",
   "metadata": {},
   "outputs": [
    {
     "name": "stdout",
     "output_type": "stream",
     "text": [
      "[16, 14, 13, 11, 29, 38, 24]\n"
     ]
    }
   ],
   "source": [
    "import random\n",
    "\n",
    "lottery = random.sample(range(1, 50), 7)\n",
    "print(lottery)\n",
    "# print(random.sample(range(1, 50), 7))\n",
    "# print(len(range(1), 50)))"
   ]
  }
 ],
 "metadata": {
  "kernelspec": {
   "display_name": "base",
   "language": "python",
   "name": "python3"
  },
  "language_info": {
   "codemirror_mode": {
    "name": "ipython",
    "version": 3
   },
   "file_extension": ".py",
   "mimetype": "text/x-python",
   "name": "python",
   "nbconvert_exporter": "python",
   "pygments_lexer": "ipython3",
   "version": "3.13.2"
  }
 },
 "nbformat": 4,
 "nbformat_minor": 5
}
