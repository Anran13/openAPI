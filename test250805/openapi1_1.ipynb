{
 "cells": [
  {
   "cell_type": "code",
   "execution_count": 8,
   "id": "1f6ca881",
   "metadata": {},
   "outputs": [],
   "source": [
    "from openpyxl import load_workbook, Workbook"
   ]
  },
  {
   "cell_type": "code",
   "execution_count": 12,
   "id": "0efa69a2",
   "metadata": {},
   "outputs": [
    {
     "data": {
      "text/plain": [
       "openpyxl.workbook.workbook.Workbook"
      ]
     },
     "execution_count": 12,
     "metadata": {},
     "output_type": "execute_result"
    }
   ],
   "source": [
    "wb:Workbook = load_workbook('data/aqi.xlsx')\n",
    "type(wb)"
   ]
  },
  {
   "cell_type": "code",
   "execution_count": null,
   "id": "c4881979",
   "metadata": {},
   "outputs": [
    {
     "name": "stdout",
     "output_type": "stream",
     "text": [
      "['sitename', 'county', 'aqi', 'pollutant', 'status', 'so2', 'co', 'o3', 'o3_8hr', 'pm10', 'pm2.5', 'no2', 'nox', 'no', 'windspeed', 'winddirec', 'datacreationdate', 'unit', 'co_8hr', 'pm2.5_avg', 'pm10_avg', 'so2_avg', 'longitude', 'latitude', 'siteid']\n",
      "{'sitename': '花蓮（美崙）', 'county': '花蓮縣', 'aqi': 36, 'pollutant': None, 'status': '良好', 'so2': 0, 'co': 0.33, 'o3': 47.7, 'o3_8hr': 39.3, 'pm10': 26, 'pm2.5': 12, 'no2': 3.8, 'nox': 4.6, 'no': 0.8, 'windspeed': 5, 'winddirec': 33, 'datacreationdate': '2024-11-26 20:00', 'unit': None, 'co_8hr': 0.3, 'pm2.5_avg': 10.8, 'pm10_avg': 25, 'so2_avg': 0, 'longitude': 121.61575076, 'latitude': 23.97709367, 'siteid': 312}\n",
      "{'aqi': 36,\n",
      " 'co': 0.33,\n",
      " 'co_8hr': 0.3,\n",
      " 'county': '花蓮縣',\n",
      " 'datacreationdate': '2024-11-26 20:00',\n",
      " 'latitude': 23.97709367,\n",
      " 'longitude': 121.61575076,\n",
      " 'no': 0.8,\n",
      " 'no2': 3.8,\n",
      " 'nox': 4.6,\n",
      " 'o3': 47.7,\n",
      " 'o3_8hr': 39.3,\n",
      " 'pm10': 26,\n",
      " 'pm10_avg': 25,\n",
      " 'pm2.5': 12,\n",
      " 'pm2.5_avg': 10.8,\n",
      " 'pollutant': None,\n",
      " 'siteid': 312,\n",
      " 'sitename': '花蓮（美崙）',\n",
      " 'so2': 0,\n",
      " 'so2_avg': 0,\n",
      " 'status': '良好',\n",
      " 'unit': None,\n",
      " 'winddirec': 33,\n",
      " 'windspeed': 5}\n"
     ]
    }
   ],
   "source": [
    "# get worksheet\n",
    "sheet = wb.worksheets[0]\n",
    "type(sheet)\n",
    "\n",
    "# row: list(sheet)\n",
    "column_name = [cell.value for cell in list(sheet)[0]]\n",
    "print(column_name)\n",
    "\n",
    "# for row in list(sheet)[1:2]:\n",
    "#     # print(row)\n",
    "#     for idx, cell in enumerate(row):\n",
    "#         print(idx,cell.value)\n",
    "\n",
    "# save as dictionary\n",
    "sheets = []\n",
    "for row in list(sheet)[1:]:\n",
    "    site = {}\n",
    "    for idx, cell in enumerate(row):\n",
    "        site[column_name[idx]] = cell.value\n",
    "    sheets.append(site)\n",
    "\n",
    "# one row\n",
    "print(sheets[1])\n",
    "\n",
    "# display one row\n",
    "from pprint import pprint\n",
    "pprint(sheets[1])"
   ]
  },
  {
   "cell_type": "code",
   "execution_count": 49,
   "id": "81e6e6bb",
   "metadata": {},
   "outputs": [
    {
     "name": "stdout",
     "output_type": "stream",
     "text": [
      "['sitename', 'county', 'aqi', 'pollutant', 'status', 'so2', 'co', 'o3', 'o3_8hr', 'pm10', 'pm2.5', 'no2', 'nox', 'no', 'windspeed', 'winddirec', 'datacreationdate', 'unit', 'co_8hr', 'pm2.5_avg', 'pm10_avg', 'so2_avg', 'longitude', 'latitude', 'siteid']\n",
      "{'sitename': '屏東(枋山)', 'county': '屏東縣', 'aqi': 40, 'pollutant': None, 'status': '良好', 'so2': 0, 'co': 0.24, 'o3': 39.4, 'o3_8hr': 43.6, 'pm10': 17, 'pm2.5': 6, 'no2': 2.4, 'nox': 2.6, 'no': 0.2, 'windspeed': 5.7, 'winddirec': 90, 'datacreationdate': '2024-11-26 20:00', 'unit': None, 'co_8hr': 0.1, 'pm2.5_avg': 8.7, 'pm10_avg': 27, 'so2_avg': 0, 'longitude': 120.651472, 'latitude': 22.260899, 'siteid': 313}\n"
     ]
    }
   ],
   "source": [
    "# get worksheet\n",
    "sheet = wb.worksheets[0]\n",
    "type(sheet)\n",
    "\n",
    "# row: list(sheet)\n",
    "column_name = [cell.value for cell in list(sheet)[0]]\n",
    "print(column_name)\n",
    "\n",
    "# save as dictionary\n",
    "sheets = []\n",
    "for row in list(sheet)[1:]:\n",
    "    site = {column_name[idx]:cell.value for idx, cell in enumerate(row)}\n",
    "    sheets.append(site)\n",
    "\n",
    "print(sheets[0])"
   ]
  },
  {
   "cell_type": "code",
   "execution_count": 50,
   "id": "5af0b8f9",
   "metadata": {},
   "outputs": [
    {
     "name": "stdout",
     "output_type": "stream",
     "text": [
      "{'sitename': '屏東', 'county': '屏東縣', 'aqi': 48, 'pollutant': None, 'status': '良好', 'so2': 1.7, 'co': 0.42, 'o3': 36.7, 'o3_8hr': 46.5, 'pm10': 116, 'pm2.5': 21, 'no2': 13.1, 'nox': 13.6, 'no': 0.5, 'windspeed': 1.8, 'winddirec': 256, 'datacreationdate': '2024-11-26 20:00', 'unit': None, 'co_8hr': 0.2, 'pm2.5_avg': 13.7, 'pm10_avg': 48, 'so2_avg': 1, 'longitude': 120.488033, 'latitude': 22.673081, 'siteid': 59}\n",
      "{'sitename': '屏東', 'county': '屏東縣', 'aqi': 44, 'pollutant': None, 'status': '良好', 'so2': 1.5, 'co': 0.44, 'o3': 38.8, 'o3_8hr': 47.2, 'pm10': 54, 'pm2.5': 14, 'no2': 14.8, 'nox': 15.4, 'no': 0.6, 'windspeed': 2.4, 'winddirec': 280, 'datacreationdate': '2024-11-26 19:00', 'unit': None, 'co_8hr': 0.2, 'pm2.5_avg': 12.1, 'pm10_avg': 34, 'so2_avg': 1, 'longitude': 120.488033, 'latitude': 22.673081, 'siteid': 59}\n",
      "{'sitename': '屏東', 'county': '屏東縣', 'aqi': 44, 'pollutant': None, 'status': '良好', 'so2': 1.5, 'co': 0.44, 'o3': 38.8, 'o3_8hr': 47.2, 'pm10': 54, 'pm2.5': 14, 'no2': 14.8, 'nox': 15.4, 'no': 0.6, 'windspeed': 2.4, 'winddirec': 280, 'datacreationdate': '2024-11-26 19:00', 'unit': None, 'co_8hr': 0.2, 'pm2.5_avg': 12.1, 'pm10_avg': 34, 'so2_avg': 1, 'longitude': 120.488033, 'latitude': 22.673081, 'siteid': 59}\n",
      "{'sitename': '屏東', 'county': '屏東縣', 'aqi': 43, 'pollutant': None, 'status': '良好', 'so2': 1.2, 'co': 0.34, 'o3': 44.9, 'o3_8hr': 46.9, 'pm10': 30, 'pm2.5': 11, 'no2': 11, 'nox': 11.6, 'no': 0.6, 'windspeed': 1.3, 'winddirec': 304, 'datacreationdate': '2024-11-26 18:00', 'unit': None, 'co_8hr': 0.2, 'pm2.5_avg': 11.4, 'pm10_avg': 30, 'so2_avg': 1, 'longitude': 120.488033, 'latitude': 22.673081, 'siteid': 59}\n",
      "{'sitename': '屏東', 'county': '屏東縣', 'aqi': 43, 'pollutant': None, 'status': '良好', 'so2': 1.2, 'co': 0.34, 'o3': 44.9, 'o3_8hr': 46.9, 'pm10': 30, 'pm2.5': 11, 'no2': 11, 'nox': 11.6, 'no': 0.6, 'windspeed': 1.3, 'winddirec': 304, 'datacreationdate': '2024-11-26 18:00', 'unit': None, 'co_8hr': 0.2, 'pm2.5_avg': 11.4, 'pm10_avg': 30, 'so2_avg': 1, 'longitude': 120.488033, 'latitude': 22.673081, 'siteid': 59}\n",
      "{'sitename': '屏東', 'county': '屏東縣', 'aqi': 42, 'pollutant': None, 'status': '良好', 'so2': 1.1, 'co': 0.27, 'o3': 51.3, 'o3_8hr': 45, 'pm10': 30, 'pm2.5': 11, 'no2': 7.8, 'nox': 8.5, 'no': 0.7, 'windspeed': 2, 'winddirec': 328, 'datacreationdate': '2024-11-26 17:00', 'unit': None, 'co_8hr': 0.2, 'pm2.5_avg': 12, 'pm10_avg': 30, 'so2_avg': 1, 'longitude': 120.488033, 'latitude': 22.673081, 'siteid': 59}\n",
      "{'sitename': '屏東', 'county': '屏東縣', 'aqi': 42, 'pollutant': None, 'status': '良好', 'so2': 1.1, 'co': 0.27, 'o3': 51.3, 'o3_8hr': 45, 'pm10': 30, 'pm2.5': 11, 'no2': 7.8, 'nox': 8.5, 'no': 0.7, 'windspeed': 2, 'winddirec': 328, 'datacreationdate': '2024-11-26 17:00', 'unit': None, 'co_8hr': 0.2, 'pm2.5_avg': 12, 'pm10_avg': 30, 'so2_avg': 1, 'longitude': 120.488033, 'latitude': 22.673081, 'siteid': 59}\n",
      "{'sitename': '屏東', 'county': '屏東縣', 'aqi': 41, 'pollutant': None, 'status': '良好', 'so2': 1.2, 'co': 0.21, 'o3': 53.2, 'o3_8hr': 41.4, 'pm10': 27, 'pm2.5': 6, 'no2': 6.7, 'nox': 7.5, 'no': 0.7, 'windspeed': 1.7, 'winddirec': 281, 'datacreationdate': '2024-11-26 16:00', 'unit': None, 'co_8hr': 0.2, 'pm2.5_avg': 12.7, 'pm10_avg': 30, 'so2_avg': 1, 'longitude': 120.488033, 'latitude': 22.673081, 'siteid': 59}\n",
      "{'sitename': '屏東', 'county': '屏東縣', 'aqi': 41, 'pollutant': None, 'status': '良好', 'so2': 1.2, 'co': 0.21, 'o3': 53.2, 'o3_8hr': 41.4, 'pm10': 27, 'pm2.5': 6, 'no2': 6.7, 'nox': 7.5, 'no': 0.7, 'windspeed': 1.7, 'winddirec': 281, 'datacreationdate': '2024-11-26 16:00', 'unit': None, 'co_8hr': 0.2, 'pm2.5_avg': 12.7, 'pm10_avg': 30, 'so2_avg': 1, 'longitude': 120.488033, 'latitude': 22.673081, 'siteid': 59}\n",
      "{'sitename': '屏東', 'county': '屏東縣', 'aqi': 48, 'pollutant': None, 'status': '良好', 'so2': 1.2, 'co': 0.19, 'o3': 51.6, 'o3_8hr': 37, 'pm10': 36, 'pm2.5': 6, 'no2': 6.3, 'nox': 7.2, 'no': 0.9, 'windspeed': 1.8, 'winddirec': 287, 'datacreationdate': '2024-11-26 15:00', 'unit': None, 'co_8hr': 0.2, 'pm2.5_avg': 14.8, 'pm10_avg': 30, 'so2_avg': 1, 'longitude': 120.488033, 'latitude': 22.673081, 'siteid': 59}\n",
      "{'sitename': '屏東', 'county': '屏東縣', 'aqi': 48, 'pollutant': None, 'status': '良好', 'so2': 1.2, 'co': 0.19, 'o3': 51.6, 'o3_8hr': 37, 'pm10': 36, 'pm2.5': 6, 'no2': 6.3, 'nox': 7.2, 'no': 0.9, 'windspeed': 1.8, 'winddirec': 287, 'datacreationdate': '2024-11-26 15:00', 'unit': None, 'co_8hr': 0.2, 'pm2.5_avg': 14.8, 'pm10_avg': 30, 'so2_avg': 1, 'longitude': 120.488033, 'latitude': 22.673081, 'siteid': 59}\n",
      "{'sitename': '屏東', 'county': '屏東縣', 'aqi': 53, 'pollutant': '細懸浮微粒', 'status': '普通', 'so2': 1.3, 'co': 0.18, 'o3': 49.6, 'o3_8hr': 32.7, 'pm10': 22, 'pm2.5': 11, 'no2': 5.5, 'nox': 6.3, 'no': 0.8, 'windspeed': 1.8, 'winddirec': 347, 'datacreationdate': '2024-11-26 14:00', 'unit': None, 'co_8hr': 0.2, 'pm2.5_avg': 16.5, 'pm10_avg': 30, 'so2_avg': 1, 'longitude': 120.488033, 'latitude': 22.673081, 'siteid': 59}\n"
     ]
    }
   ],
   "source": [
    "for site in sheets:\n",
    "    if site['sitename'] == '屏東':\n",
    "        print(site)"
   ]
  }
 ],
 "metadata": {
  "kernelspec": {
   "display_name": "base",
   "language": "python",
   "name": "python3"
  },
  "language_info": {
   "codemirror_mode": {
    "name": "ipython",
    "version": 3
   },
   "file_extension": ".py",
   "mimetype": "text/x-python",
   "name": "python",
   "nbconvert_exporter": "python",
   "pygments_lexer": "ipython3",
   "version": "3.13.2"
  }
 },
 "nbformat": 4,
 "nbformat_minor": 5
}
